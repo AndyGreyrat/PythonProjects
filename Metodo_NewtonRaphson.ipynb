{
 "cells": [
  {
   "cell_type": "markdown",
   "metadata": {},
   "source": [
    "### Anderson Florez Jaramillo <br>"
   ]
  },
  {
   "cell_type": "markdown",
   "metadata": {},
   "source": [
    "#  Produccion de  $CO_2$  en una plantación química\n",
    "\n",
    "Se requiere determinar cuántos cilindros se necesitan para presurizar $600\\: kg$ de $CO_2$, producido a altas presiones, para eso se dispone de la siguiente ecuación que determina el valor de la densidad del gas.\n",
    "\n",
    "\n",
    "$$ R_gT\\rho+ \\left( B_0 R_g T-A_0- \\frac{C_0}{T^{2}}\\right) \\rho^{2} + \\left( b R_g T - a\\right)  \\rho^{3} + a \\alpha \\rho^{6} + \\frac{c}{T^{2}} \\rho^{3} \\left( 1+ \\gamma \\rho^{2} \\right)  e^{\\left(   -\\gamma \\rho^{2} \\right)   } -p = 0 $$\n",
    "\n",
    "Conociendo todas las constantes y llamando a la incognita como $x$, la ecuación anterior se puede reescribir como\n",
    "\n",
    "$$C_1x+C_2x^{2} + C_3 x^{3} + C_4 x^{6} + C_5 x^{3} \\left( 1+ \\gamma x^{2} \\right)  e^{\\left(   -\\gamma x^{2} \\right)   } -p = 0$$ <br>\n",
    "Para conocer el valor de $x$ se desarrolla el siguiente algoritmo, conociendo la denisad del gas se puede estabelcer la masa en cada cilindro, sabiendo que cada cilindro tiene una capacidad de $0.33 \\: m^3$ "
   ]
  },
  {
   "cell_type": "markdown",
   "metadata": {},
   "source": [
    "### Librerías Usadas\n"
   ]
  },
  {
   "cell_type": "code",
   "execution_count": 1,
   "metadata": {},
   "outputs": [],
   "source": [
    "import numpy as np\n",
    "from numpy import*\n",
    "import pandas as pd\n",
    "import math\n",
    "import matplotlib.pyplot as plt"
   ]
  },
  {
   "cell_type": "markdown",
   "metadata": {},
   "source": [
    "### Declaracion de  Constantes"
   ]
  },
  {
   "cell_type": "code",
   "execution_count": 2,
   "metadata": {},
   "outputs": [],
   "source": [
    "T = 298                #Temperatura en Kelvin\n",
    "P = 6398               #Presion en kPa\n",
    "Mg = 44.1              #Masa molecular del gas en Kg/Kmol\n",
    "Ru = 8.31447           #constante universal de los gases [kPa*m^3/kmol*K]\n",
    "Rg = Ru/Mg\n",
    "a = 1.625957e-4\n",
    "b = 3.722481e-6\n",
    "c = 17.725984\n",
    "A0 = 0.143168\n",
    "B0 = 1.134060e-3\n",
    "C0 = 7248.770845\n",
    "alfa = 9.936405e-10\n",
    "gamma = 2.782826e-6\n",
    "\n",
    "C1 = Rg*T\n",
    "C2 = (B0*Rg*T-A0-(C0/T**2))\n",
    "C3 = b*Rg*T-a\n",
    "C4 = a*alfa\n",
    "C5 = c/T**2\n"
   ]
  },
  {
   "cell_type": "markdown",
   "metadata": {},
   "source": [
    "### Gráfica de la función $\\rho$\n",
    "Se grafica la función para estimar un posible valor semilla para resolver la ecuación por el método de Newton-Raphson"
   ]
  },
  {
   "cell_type": "code",
   "execution_count": 3,
   "metadata": {},
   "outputs": [
    {
     "data": {
      "image/png": "[encoded data removed]",
      "text/plain": [
       "<Figure size 360x288 with 1 Axes>"
      ]
     },
     "metadata": {
      "needs_background": "light"
     },
     "output_type": "display_data"
    }
   ],
   "source": [
    "f = '(C1*x)+(C2*x**2)+(C3*x**3)+(C4*x**6)+(C5*x**3)*(1+gamma*x**2)*exp(-gamma*x**2)-P'\n",
    "\n",
    "\n",
    "x_vector = linspace(50,200,300)\n",
    "y_vector = zeros(len(x_vector))\n",
    "for i in range(len(x_vector)):\n",
    "    x = x_vector[i]\n",
    "    y_vector[i] = eval(f)\n",
    "    \n",
    "eje_x = x_vector*0\n",
    "plt.figure(figsize = (5,4))\n",
    "plt.plot(x_vector,y_vector)\n",
    "plt.plot(x_vector,eje_x,color = 'k',linewidth = 1)\n",
    "plt.xlabel('x',fontsize = 14)\n",
    "plt.ylabel('f(x)',fontsize = 14)\n",
    "plt.grid()"
   ]
  },
  {
   "cell_type": "markdown",
   "metadata": {},
   "source": [
    "### Ingresar Datos\n",
    "se quiere diseñar un algoritmo interactivo que sea util y aplicable en diferentes problemas o circunstancias, por tal razon se pide al usuario el ingreso de  la tolerancia y el valor semilla para ejecutar el metodo de Newton Raphson."
   ]
  },
  {
   "cell_type": "code",
   "execution_count": 4,
   "metadata": {},
   "outputs": [
    {
     "name": "stdout",
     "output_type": "stream",
     "text": [
      "ingrese el valor semilla que considere pertinente:  55\n",
      "Ingrese una  tolerancia de error entre 0 y  1 : 0.00001\n"
     ]
    }
   ],
   "source": [
    "x_0 = eval(input('ingrese el valor semilla que considere pertinente:  '))\n",
    "tol = float(input('Ingrese una  tolerancia de error entre 0 y  1 : '))"
   ]
  },
  {
   "cell_type": "markdown",
   "metadata": {},
   "source": [
    "### Cuerpo del Programa"
   ]
  },
  {
   "cell_type": "code",
   "execution_count": 5,
   "metadata": {},
   "outputs": [
    {
     "name": "stdout",
     "output_type": "stream",
     "text": [
      "El valor de la densidad del gas es de :  183.04838481264014 Kg/m^3 \n",
      "El valor de la masa contenida en cada cilindro es de:   60.40596698817125  Kg \n",
      "\n",
      "Durante la ejecución del programa: \n",
      "\t Se realizaron  5  iteraciones\n",
      "\t El error relativo aproximado obtenido fue: 2.68e-10\n"
     ]
    }
   ],
   "source": [
    "iter_max = 100             # Numero de iteraciones maximas\n",
    "\n",
    "num_iter = 0               # inicializacion de iteraciones y del error\n",
    "error = 1\n",
    "if x_0 == 0:              #se contraresta un valor semilla igual a cero para evitar divisiones entre cero\n",
    "    x_0 = 0.1\n",
    "lista_err = []    # Lista vacía para almacenar los valores de error\n",
    "lista_sol = []      #lista vacia para almacenar los valores de la solucion \n",
    "# Aplicacion del metodo de Newton Raphson.\n",
    "while (num_iter <= iter_max and error > tol):\n",
    "    x = x_0\n",
    "    f_x0 = eval(f)\n",
    "    x = x_0 + 0.001*x_0; f_x_mas_delta = eval(f)\n",
    "    x = x_0 - 0.001*x_0; f_x_menos_delta = eval(f)\n",
    "    derivada = (f_x_mas_delta-f_x_menos_delta)/((x_0 + 0.001*x_0)-(x_0 - 0.001*x_0))\n",
    "    x = x_0                           \n",
    "    x_0 = x_0 - (f_x0/derivada)\n",
    "    masa = x*0.33\n",
    "    lista_sol.append(masa)               #se guarda en la lista el nuevo valor de la solucion\n",
    "    error = abs((x - x_0)/x)\n",
    "    lista_err.append(error)             #Se guarda en la lista el nuevo valor de error\n",
    "    num_iter = num_iter + 1\n",
    "if (num_iter >= iter_max):\n",
    "     print('Se alcanzó el número máximo de iteraciones sin hallar solución')\n",
    "else:\n",
    "    print('El valor de la densidad del gas es de : ',x,'Kg/m^3 ')\n",
    "    print('El valor de la masa contenida en cada cilindro es de:  ',masa,' Kg \\n')\n",
    "    print('Durante la ejecución del programa: ')\n",
    "    print('\\t Se realizaron ',num_iter,' iteraciones')\n",
    "    print('\\t El error relativo aproximado obtenido fue: {:.2e}'.format(error))"
   ]
  },
  {
   "cell_type": "markdown",
   "metadata": {},
   "source": [
    "### Tabla de  Resultados \n"
   ]
  },
  {
   "cell_type": "code",
   "execution_count": 6,
   "metadata": {},
   "outputs": [
    {
     "data": {
      "text/html": [
       "<div>\n",
       "<style scoped>\n",
       "    .dataframe tbody tr th:only-of-type {\n",
       "        vertical-align: middle;\n",
       "    }\n",
       "\n",
       "    .dataframe tbody tr th {\n",
       "        vertical-align: top;\n",
       "    }\n",
       "\n",
       "    .dataframe thead th {\n",
       "        text-align: right;\n",
       "    }\n",
       "</style>\n",
       "<table border=\"1\" class=\"dataframe\">\n",
       "  <thead>\n",
       "    <tr style=\"text-align: right;\">\n",
       "      <th></th>\n",
       "      <th>Masa Aproximada[Kg]</th>\n",
       "      <th>Error Relativo Apro</th>\n",
       "    </tr>\n",
       "    <tr>\n",
       "      <th>Iteración</th>\n",
       "      <th></th>\n",
       "      <th></th>\n",
       "    </tr>\n",
       "  </thead>\n",
       "  <tbody>\n",
       "    <tr>\n",
       "      <th>1.0</th>\n",
       "      <td>18.150000</td>\n",
       "      <td>1.677121e+00</td>\n",
       "    </tr>\n",
       "    <tr>\n",
       "      <th>2.0</th>\n",
       "      <td>48.589740</td>\n",
       "      <td>2.278871e-01</td>\n",
       "    </tr>\n",
       "    <tr>\n",
       "      <th>3.0</th>\n",
       "      <td>59.662715</td>\n",
       "      <td>1.242293e-02</td>\n",
       "    </tr>\n",
       "    <tr>\n",
       "      <th>4.0</th>\n",
       "      <td>60.403901</td>\n",
       "      <td>3.420646e-05</td>\n",
       "    </tr>\n",
       "    <tr>\n",
       "      <th>5.0</th>\n",
       "      <td>60.405967</td>\n",
       "      <td>2.677746e-10</td>\n",
       "    </tr>\n",
       "  </tbody>\n",
       "</table>\n",
       "</div>"
      ],
      "text/plain": [
       "           Masa Aproximada[Kg]  Error Relativo Apro\n",
       "Iteración                                          \n",
       "1.0                  18.150000         1.677121e+00\n",
       "2.0                  48.589740         2.278871e-01\n",
       "3.0                  59.662715         1.242293e-02\n",
       "4.0                  60.403901         3.420646e-05\n",
       "5.0                  60.405967         2.677746e-10"
      ]
     },
     "execution_count": 6,
     "metadata": {},
     "output_type": "execute_result"
    }
   ],
   "source": [
    "v_err = np.array(lista_err)      # Conversión de lista a arreglo\n",
    "v_sol = np.array(lista_sol)\n",
    "v_its = np.arange(1,num_iter + 1)\n",
    "Matriz_resultados = np.column_stack([v_its,v_sol,v_err])\n",
    "Matriz_resultados\n",
    "df = pd.DataFrame(data = Matriz_resultados,columns = ['Iteración', 'Masa Aproximada[Kg]', 'Error Relativo Apro'])\n",
    "df.set_index('Iteración',inplace = True)\n",
    "df"
   ]
  },
  {
   "cell_type": "markdown",
   "metadata": {},
   "source": [
    "### Análisis de Resultados\n",
    "Sabiendo la masa del gas que cabe en un cilindro, se puede determinar el número de cilindros necesarios para embotellar $600 Kg \\:$ <br>\n",
    "\n",
    "$$\\frac{600 \\: Kg}{60.4059} \\approx 10 \\; cilindros $$\n",
    "<br>\n",
    "\n",
    "A mayores presiones,la densidad del gas se incrementa, lo que posibilita la introduccionde de mas gas a cada cilindro, comparando con las condiciones normales, la densidad del gas es aproximadamente $2 Kg/m^3$, es decir, para las condiciones de la planta de $6398 \\: kPa$ la densidad es casi 100 veces la densidad del gas a  condiciones normales. lo que incrementa la produccion de cilindros de gas con un mayor contenido, sin embargo, el hecho de que las presiones dentro del cilindro aumenten, implica una manufactura mas delicada y precisa de los cilindros, aumentando su resistencia para que pueda soportar sin problemas las presiones internas a las cuales seran sometidos.  "
   ]
  }
 ],
 "metadata": {
  "kernelspec": {
   "display_name": "Python 3 (ipykernel)",
   "language": "python",
   "name": "python3"
  },
  "language_info": {
   "codemirror_mode": {
    "name": "ipython",
    "version": 3
   },
   "file_extension": ".py",
   "mimetype": "text/x-python",
   "name": "python",
   "nbconvert_exporter": "python",
   "pygments_lexer": "ipython3",
   "version": "3.9.7"
  }
 },
 "nbformat": 4,
 "nbformat_minor": 2
}
